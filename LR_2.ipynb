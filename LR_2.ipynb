{
  "metadata": {
    "kernelspec": {
      "name": "python",
      "display_name": "Python (Pyodide)",
      "language": "python"
    },
    "language_info": {
      "codemirror_mode": {
        "name": "python",
        "version": 3
      },
      "file_extension": ".py",
      "mimetype": "text/x-python",
      "name": "python",
      "nbconvert_exporter": "python",
      "pygments_lexer": "ipython3",
      "version": "3.8"
    }
  },
  "nbformat_minor": 5,
  "nbformat": 4,
  "cells": [
    {
      "id": "6f28849a-f342-4101-a37b-d744998d285e",
      "cell_type": "code",
      "source": "import pandas as pd",
      "metadata": {
        "trusted": true
      },
      "outputs": [],
      "execution_count": 2
    },
    {
      "id": "9dbf0e9d-65b0-4c9a-811b-f6a737528ae1",
      "cell_type": "code",
      "source": "data = pd.read_csv('train.csv')",
      "metadata": {
        "trusted": true
      },
      "outputs": [],
      "execution_count": 50
    },
    {
      "id": "24853f77-04e6-41d6-987d-3c89afb5fcfd",
      "cell_type": "code",
      "source": "data.columns",
      "metadata": {
        "trusted": true
      },
      "outputs": [
        {
          "execution_count": 9,
          "output_type": "execute_result",
          "data": {
            "text/plain": "Index(['PassengerId', 'Survived', 'Pclass', 'Name', 'Sex', 'Age', 'SibSp',\n       'Parch', 'Ticket', 'Fare', 'Cabin', 'Embarked'],\n      dtype='object')"
          },
          "metadata": {}
        }
      ],
      "execution_count": 9
    },
    {
      "id": "b3154541-fe12-46a7-8d17-a19861600e2d",
      "cell_type": "markdown",
      "source": "1. Какое количество мужчин и женщин ехало на параходе? Приведите два числа через пробел.",
      "metadata": {}
    },
    {
      "id": "f3774e6f-e1c6-44ce-8f74-200431a0c1e4",
      "cell_type": "code",
      "source": "male, female = data[\"Sex\"].value_counts()",
      "metadata": {
        "trusted": true
      },
      "outputs": [],
      "execution_count": 6
    },
    {
      "id": "7bb12c42-069c-4862-962c-3805f23ea452",
      "cell_type": "code",
      "source": "male, female",
      "metadata": {
        "trusted": true
      },
      "outputs": [
        {
          "name": "stdout",
          "output_type": "stream",
          "text": "577 314\n"
        }
      ],
      "execution_count": 7
    },
    {
      "id": "d97332a1-3a9c-4375-ae6c-2c0d1fde8d32",
      "cell_type": "markdown",
      "source": "2. Подсчитайте сколько пассажиров загрузилось на борт в различных портах? Приведите три числа через пробел.",
      "metadata": {}
    },
    {
      "id": "4d02039a-539c-4d03-8b0c-aa5e900165cf",
      "cell_type": "code",
      "source": "S, C, Q = data['Embarked'].value_counts()",
      "metadata": {
        "trusted": true
      },
      "outputs": [],
      "execution_count": 11
    },
    {
      "id": "e110122f-7b55-4941-838a-e8e81347b791",
      "cell_type": "code",
      "source": "S, C, Q",
      "metadata": {
        "trusted": true
      },
      "outputs": [
        {
          "name": "stdout",
          "output_type": "stream",
          "text": "644 168 77\n"
        }
      ],
      "execution_count": 12
    },
    {
      "id": "b1089e30-6a10-4744-a0eb-c12816dc34ff",
      "cell_type": "markdown",
      "source": "3. Посчитайте долю (процент) погибших на параходе (число и процент)?",
      "metadata": {}
    },
    {
      "id": "4b9f6425-fe5b-4ec1-9797-fa93b2638c7e",
      "cell_type": "code",
      "source": "dead = data[data['Survived'] == 0].shape[0]\nall_pass = data['Survived'].shape[0]\ndead, dead/all_pass * 100",
      "metadata": {
        "trusted": true
      },
      "outputs": [
        {
          "execution_count": 46,
          "output_type": "execute_result",
          "data": {
            "text/plain": "(549, 61.61616161616161)"
          },
          "metadata": {}
        }
      ],
      "execution_count": 46
    },
    {
      "id": "1e4cbeb4-accf-4fbe-b583-8de68424c283",
      "cell_type": "markdown",
      "source": "4. Какие доли составляли пассажиры первого, второго, третьего класса?",
      "metadata": {}
    },
    {
      "id": "e6fd96d6-4754-4432-ab98-622876674e9f",
      "cell_type": "code",
      "source": "class_count = data['Pclass'].value_counts()\nall_pass = data.shape[0]\nclass_count/all_pass * 100",
      "metadata": {
        "trusted": true
      },
      "outputs": [
        {
          "execution_count": 36,
          "output_type": "execute_result",
          "data": {
            "text/plain": "Pclass\n3    55.106622\n1    24.242424\n2    20.650954\nName: count, dtype: float64"
          },
          "metadata": {}
        }
      ],
      "execution_count": 36
    },
    {
      "id": "8b3b4b52-ceae-402b-a9f8-5af8b485d960",
      "cell_type": "markdown",
      "source": "5. Вычислите коэффициент корреляции Пирсона между количеством супругов (SibSp) и количеством детей (Parch).",
      "metadata": {}
    },
    {
      "id": "4a2e9762-fed4-49b1-8dd5-7820367b064c",
      "cell_type": "code",
      "source": "data['SibSp'].corr(data['Parch'],  method=\"pearson\")",
      "metadata": {
        "trusted": true
      },
      "outputs": [
        {
          "execution_count": 38,
          "output_type": "execute_result",
          "data": {
            "text/plain": "np.float64(0.41483769862015263)"
          },
          "metadata": {}
        }
      ],
      "execution_count": 38
    },
    {
      "id": "e2ae7156-dac3-4b5d-bf88-fd9ea80cda6e",
      "cell_type": "markdown",
      "source": "6. Выясните есть ли корреляция (вычислите коэффициент корреляции Пирсона) между:\n\nвозрастом и параметром Survived;\nполом человека и параметром Survived;\nклассом, в котором пассажир ехал, и параметром Survived.",
      "metadata": {}
    },
    {
      "id": "3e14f8ab-77ca-4730-a359-59d92056e2fa",
      "cell_type": "code",
      "source": "age = data['Age'].corr(data['Survived'],  method=\"pearson\")\n\ndata[\"Sex\"] = data[\"Sex\"].map({\"male\": 1, \"female\": 0})\nsex = data['Sex'].corr(data['Survived'],  method=\"pearson\")\n\npclass = data['Pclass'].corr(data['Survived'],  method=\"pearson\")\n\nage, sex, pclass",
      "metadata": {
        "trusted": true
      },
      "outputs": [
        {
          "execution_count": 45,
          "output_type": "execute_result",
          "data": {
            "text/plain": "(np.float64(-0.07722109457217737),\n np.float64(-0.5433513806577525),\n np.float64(-0.33848103596101586))"
          },
          "metadata": {}
        }
      ],
      "execution_count": 45
    },
    {
      "id": "97ce38c8-aa65-4d5a-bc81-2329e1cfd130",
      "cell_type": "markdown",
      "source": "7. Посчитайте средний возраст пассажиров и медиану, минимальный и максимальный возраст.",
      "metadata": {}
    },
    {
      "id": "997009cc-a618-4f0a-bc70-69214ce9cb6d",
      "cell_type": "code",
      "source": "data['Age'].mean(), data['Age'].median(), data['Age'].min(), data['Age'].max()",
      "metadata": {
        "trusted": true
      },
      "outputs": [
        {
          "execution_count": 48,
          "output_type": "execute_result",
          "data": {
            "text/plain": "(np.float64(29.69911764705882),\n np.float64(28.0),\n np.float64(0.42),\n np.float64(80.0))"
          },
          "metadata": {}
        }
      ],
      "execution_count": 48
    },
    {
      "id": "8c42dc1e-e843-42c9-998e-e2f049b6e757",
      "cell_type": "markdown",
      "source": "8. Посчитайте среднюю цену за билет и медиану, минимальная и максимальные цены.",
      "metadata": {}
    },
    {
      "id": "ca8f3444-0661-44bc-835c-f5b00e6e4911",
      "cell_type": "code",
      "source": "data['Fare'].mean(), data['Fare'].median(), data['Fare'].min(), data['Fare'].max()",
      "metadata": {
        "trusted": true
      },
      "outputs": [
        {
          "execution_count": 61,
          "output_type": "execute_result",
          "data": {
            "text/plain": "(np.float64(32.204207968574636),\n np.float64(14.4542),\n np.float64(0.0),\n np.float64(512.3292))"
          },
          "metadata": {}
        }
      ],
      "execution_count": 61
    },
    {
      "id": "a41aab25-f56f-4db0-ac2b-ffeea3b6b4b0",
      "cell_type": "markdown",
      "source": "9. Какое самое популярное мужское имя на корабле?",
      "metadata": {}
    },
    {
      "id": "eedbd459-9f9a-4e51-a618-07ee7d1cb161",
      "cell_type": "code",
      "source": "data = pd.read_csv('train.csv')\n\nmale= data[data[\"Sex\"] == \"male\"][\"Name\"]\n\ndef extract_first_name(full_name):\n    name_parts = full_name.split(\", \")[1].split(\". \")[1]  # Берем часть после титула\n    return name_parts.split(\" \")[0]  # Берем первое слово как имя\n\nmale_names = male.apply(extract_first_name)\n\n# Находим самое частое имя\nmost_name = male_names.value_counts().idxmax()\nmost_name",
      "metadata": {
        "trusted": true
      },
      "outputs": [
        {
          "execution_count": 53,
          "output_type": "execute_result",
          "data": {
            "text/plain": "'William'"
          },
          "metadata": {}
        }
      ],
      "execution_count": 53
    },
    {
      "id": "f60c8488-7888-43d8-80ff-6e20734540d5",
      "cell_type": "markdown",
      "source": "10. Какие самые популярные мужское и женские имена людей, старше 15 лет на корабле?",
      "metadata": {}
    },
    {
      "id": "96592337-be0c-4ada-b297-095902d093bb",
      "cell_type": "code",
      "source": "\nmale = data[(data[\"Sex\"] == \"male\") & (data[\"Age\"] > 15)][\"Name\"]\nfemale= data[(data[\"Sex\"] == \"female\" & (data[\"Age\"] > 15)][\"Name\"]\n\ndef extract_first_name(full_name):\n    try:\n        name_parts = full_name.split(\", \")[1].split(\". \")[1]\n        if '(' in name_parts and ')' in name_parts:\n            name_brackets = name_parts.split('(')[1].split(')')[0]\n            name = name_brackets.split()[0]\n        else:\n            name = name_parts.split()[0]\n        return name\n    except:\n        return None\n\nmale_names = male.apply(extract_first_name)\nfemale_names = female.apply(extract_first_name)\n\n# Находим самое частое имя\nmale_most_name = male_names.value_counts().idxmax()\nfemale_most_name = female_names.value_counts().idxmax()\nmale_most_name, female_most_name",
      "metadata": {
        "trusted": true
      },
      "outputs": [
        {
          "execution_count": 60,
          "output_type": "execute_result",
          "data": {
            "text/plain": "('William', 'Anna')"
          },
          "metadata": {}
        }
      ],
      "execution_count": 60
    },
    {
      "id": "04251b3e-eadd-460e-9703-be5410e994e3",
      "cell_type": "code",
      "source": "",
      "metadata": {
        "trusted": true
      },
      "outputs": [],
      "execution_count": null
    }
  ]
}